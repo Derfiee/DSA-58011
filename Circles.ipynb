{
  "nbformat": 4,
  "nbformat_minor": 0,
  "metadata": {
    "colab": {
      "provenance": [],
      "authorship_tag": "ABX9TyOnClCpp6KHmUHeNpZEQmz7",
      "include_colab_link": true
    },
    "kernelspec": {
      "name": "python3",
      "display_name": "Python 3"
    },
    "language_info": {
      "name": "python"
    }
  },
  "cells": [
    {
      "cell_type": "markdown",
      "metadata": {
        "id": "view-in-github",
        "colab_type": "text"
      },
      "source": [
        "<a href=\"https://colab.research.google.com/github/Derfiee/DSA-58011/blob/tests/Circles.ipynb\" target=\"_parent\"><img src=\"https://colab.research.google.com/assets/colab-badge.svg\" alt=\"Open In Colab\"/></a>"
      ]
    },
    {
      "cell_type": "code",
      "execution_count": null,
      "metadata": {
        "id": "RYHG1HMHSM4J"
      },
      "outputs": [],
      "source": [
        "class Circle:\n",
        "  def __init__ (self, r):\n",
        "    self.radius = r\n",
        "  def area(self):\n",
        "    return 3.14 * (self.radius * self.radius)\n",
        "\n",
        "obj = Circle(8)\n",
        "print(\"Area of Circle: \", obj.area())"
      ]
    }
  ]
}