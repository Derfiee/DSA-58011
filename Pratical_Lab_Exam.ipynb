{
  "nbformat": 4,
  "nbformat_minor": 0,
  "metadata": {
    "colab": {
      "name": "Pratical Lab Exam.ipynb",
      "provenance": [],
      "include_colab_link": true
    },
    "kernelspec": {
      "name": "python3",
      "display_name": "Python 3"
    },
    "language_info": {
      "name": "python"
    }
  },
  "cells": [
    {
      "cell_type": "markdown",
      "metadata": {
        "id": "view-in-github",
        "colab_type": "text"
      },
      "source": [
        "<a href=\"https://colab.research.google.com/github/Derfiee/DSA-58011/blob/tests/Pratical_Lab_Exam.ipynb\" target=\"_parent\"><img src=\"https://colab.research.google.com/assets/colab-badge.svg\" alt=\"Open In Colab\"/></a>"
      ]
    },
    {
      "cell_type": "code",
      "execution_count": 9,
      "metadata": {
        "colab": {
          "base_uri": "https://localhost:8080/"
        },
        "id": "eEqVjSExo_fz",
        "outputId": "61bd0699-027e-4c8d-a8e6-c52f84ced357"
      },
      "outputs": [
        {
          "output_type": "stream",
          "name": "stdout",
          "text": [
            "The given test scores are: \n",
            "26, 49, 98, 87, 62, 75\n",
            "Adding all even scores in the result of the test would be: \n",
            "186\n"
          ]
        }
      ],
      "source": [
        "print (\"The given test scores are: \")\n",
        "print (\"26, 49, 98, 87, 62, 75\")\n",
        "print (\"Adding all even scores in the result of the test would be: \")\n",
        "TestScores = [26, 49, 98, 87, 62, 75]\n",
        "sum = 0\n",
        "\n",
        "for Cell in TestScores:\n",
        "    if Cell % 2 == 0:\n",
        "        sum += Cell \n",
        "        \n",
        "print(sum)"
      ]
    }
  ]
}