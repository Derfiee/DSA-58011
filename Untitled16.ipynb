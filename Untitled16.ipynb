{
  "nbformat": 4,
  "nbformat_minor": 0,
  "metadata": {
    "colab": {
      "provenance": [],
      "authorship_tag": "ABX9TyN/paPC7E/NFkPw6atJbo1R",
      "include_colab_link": true
    },
    "kernelspec": {
      "name": "python3",
      "display_name": "Python 3"
    },
    "language_info": {
      "name": "python"
    }
  },
  "cells": [
    {
      "cell_type": "markdown",
      "metadata": {
        "id": "view-in-github",
        "colab_type": "text"
      },
      "source": [
        "<a href=\"https://colab.research.google.com/github/Derfiee/DSA-58011/blob/tests/Untitled16.ipynb\" target=\"_parent\"><img src=\"https://colab.research.google.com/assets/colab-badge.svg\" alt=\"Open In Colab\"/></a>"
      ]
    },
    {
      "cell_type": "code",
      "execution_count": 2,
      "metadata": {
        "colab": {
          "base_uri": "https://localhost:8080/"
        },
        "id": "w0GbAdIXZ-gy",
        "outputId": "b3f2e013-2bd1-46b1-fc7e-28a2019702a4"
      },
      "outputs": [
        {
          "output_type": "stream",
          "name": "stdout",
          "text": [
            "{'a': ['b', 'c'], 'b': ['a', 'c'], 'c': ['a', 'd'], 'd': ['b', 'c', 'e'], 'e': ['e']}\n"
          ]
        }
      ],
      "source": [
        "#Data Elements using Dictionaries to implement Graphs\n",
        "graph  = {\n",
        "    'a' : ['b','c'],\n",
        "    'b' : ['a','c'],\n",
        "    'c' : ['a','d'],\n",
        "    'd' : ['b','c','e'],\n",
        "    'e' : ['e']\n",
        "}\n",
        "print(graph)"
      ]
    },
    {
      "cell_type": "code",
      "source": [
        "#Application 1\n",
        "g21 = {\n",
        "    '1' :['4','5','6'],\n",
        "    '4' :['2','5'],\n",
        "    '5' :['1'],\n",
        "    '3' :['1'],\n",
        "    '4' :['1'],\n",
        "    '2' :['4','2'],\n",
        "\n",
        "}\n",
        "print(g21)"
      ],
      "metadata": {
        "colab": {
          "base_uri": "https://localhost:8080/"
        },
        "id": "NzbMIdu1dBLT",
        "outputId": "8384745e-3e33-4904-a34f-b02ecdc90969"
      },
      "execution_count": 5,
      "outputs": [
        {
          "output_type": "stream",
          "name": "stdout",
          "text": [
            "{'1': ['4', '5', '6'], '4': ['1'], '5': ['1'], '3': ['1'], '2': ['4', '2']}\n"
          ]
        }
      ]
    }
  ]
}