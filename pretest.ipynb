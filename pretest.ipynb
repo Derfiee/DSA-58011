{
  "nbformat": 4,
  "nbformat_minor": 0,
  "metadata": {
    "colab": {
      "provenance": [],
      "authorship_tag": "ABX9TyOxx4QNcE418Y0vw1TfHkHA",
      "include_colab_link": true
    },
    "kernelspec": {
      "name": "python3",
      "display_name": "Python 3"
    },
    "language_info": {
      "name": "python"
    }
  },
  "cells": [
    {
      "cell_type": "markdown",
      "metadata": {
        "id": "view-in-github",
        "colab_type": "text"
      },
      "source": [
        "<a href=\"https://colab.research.google.com/github/Derfiee/DSA-58011/blob/tests/pretest.ipynb\" target=\"_parent\"><img src=\"https://colab.research.google.com/assets/colab-badge.svg\" alt=\"Open In Colab\"/></a>"
      ]
    },
    {
      "cell_type": "code",
      "execution_count": null,
      "metadata": {
        "id": "CZy5w8b_TAu3"
      },
      "outputs": [],
      "source": [
        "class Rectangle():\n",
        "    def __init__(self, width, height):\n",
        "        self.width = width\n",
        "        self.height = height\n",
        "\n",
        "class perimeter(Rectangle):\n",
        "    def perimeter(self):\n",
        "      return 2 * self.height + 2 * self.width\n",
        "\n",
        "def main():\n",
        "  rect = Rectangle(7,3)\n",
        "  rect.perimeter()"
      ]
    }
  ]
}